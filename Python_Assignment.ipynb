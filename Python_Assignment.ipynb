{
 "cells": [
  {
   "cell_type": "markdown",
   "id": "57c6b5cd",
   "metadata": {},
   "source": [
    "\n",
    "# Python Assignment"
   ]
  },
  {
   "cell_type": "markdown",
   "id": "defcd40b",
   "metadata": {},
   "source": [
    "## Q1 — String slicing\n",
    "Given:\n",
    "```\n",
    "name = ''' Hi How are you? \n",
    "Starterd learning python.\n",
    "It's really interesting.'''\n",
    "```\n",
    "Show common slices and explain any errors.\n"
   ]
  },
  {
   "cell_type": "code",
   "execution_count": null,
   "id": "f43f6cfe",
   "metadata": {},
   "outputs": [],
   "source": [
    "# Q1 solution: string slicing examples (no printed output)\n",
    "name = ''' Hi How are you? \n",
    "Starterd learning python.\n",
    "It's really interesting.'''\n",
    "\n",
    "full = name[:]\n",
    "\n",
    "slice_neg = name[-10:-5]\n",
    "\n",
    "slice_pos = name[3:12]\n",
    "\n",
    "empty_slice = name[12:3]\n",
    "\n",
    "\n",
    "\n",
    "wrong_dir = name[-4:-12]\n",
    "\n",
    "\n",
    "every_second = name[::2]\n",
    "\n",
    "reverse_every_second = name[::-2]\n"
   ]
  },
  {
   "cell_type": "markdown",
   "id": "d673ac21",
   "metadata": {},
   "source": [
    "## Q2 — List indexing and slicing\n",
    "Given:\n",
    "```\n",
    "L1 = ['a' , 'b', 20, 30, 't', 100, 300, 400, 'Happy', 'major']\n",
    "```\n",
    "Perform the requested operations: full slice, every 3rd element, reverse step, extract 'Happy', type check, and slice for 100,300,400.\n"
   ]
  },
  {
   "cell_type": "code",
   "execution_count": null,
   "id": "f6a543d0",
   "metadata": {},
   "outputs": [],
   "source": [
    "# Q2 solution: list slicing and indexing\n",
    "L1 = ['a' , 'b', 20, 30, 't', 100, 300, 400, 'Happy', 'major']\n",
    "\n",
    "\n",
    "L_full = L1[:]\n",
    "\n",
    "\n",
    "L_every3 = L1[::3]\n",
    "\n",
    "\n",
    "L_rev2 = L1[::-2]\n",
    "\n",
    "\n",
    "happy = L1[8]\n",
    "happy_neg = L1[-2]\n",
    "\n",
    "\n",
    "type_4th = type(L1[3])\n",
    "\n",
    "nums_100_300_400 = L1[5:8]\n"
   ]
  },
  {
   "cell_type": "markdown",
   "id": "71c0d26c",
   "metadata": {},
   "source": [
    "## Q3 — Nested list indexing\n",
    "Given:\n",
    "```\n",
    "L2 = [1,2,3,5,['a','b','work hard'],100,200,'Success']\n",
    "```\n",
    "Find specified slices and elements, and note typos like L7.\n"
   ]
  },
  {
   "cell_type": "code",
   "execution_count": null,
   "id": "988c4ceb",
   "metadata": {},
   "outputs": [],
   "source": [
    "# Q3 solution: nested list operations\n",
    "L2 = [1,2,3,5,['a','b','work hard'],100,200,'Success']\n",
    "\n",
    "\n",
    "nested = L2[4]\n",
    "\n",
    "\n",
    "slice_1_5 = L2[1:5]\n",
    "\n",
    "\n",
    "elem_7 = L2[7]\n",
    "\n",
    "char_in_success = L2[7][2]\n",
    "\n",
    "first_three = L2[:3]\n",
    "from_three = L2[3:]\n"
   ]
  },
  {
   "cell_type": "markdown",
   "id": "196817b8",
   "metadata": {},
   "source": [
    "## Q4 — Change nested value\n",
    "From L2 change 'b' to 'BEE'.\n"
   ]
  },
  {
   "cell_type": "code",
   "execution_count": null,
   "id": "c29ba531",
   "metadata": {},
   "outputs": [],
   "source": [
    "# Q4 solution: modify nested list value\n",
    "L2 = [1,2,3,5,['a','b','work hard'],100,200,'Success']\n",
    "L2[4][1] = 'BEE'  \n"
   ]
  },
  {
   "cell_type": "markdown",
   "id": "953cf6aa",
   "metadata": {},
   "source": [
    "## Q5 — Remove element 'BEE' from nested list\n",
    "From the modified L2 remove 'BEE'.\n"
   ]
  },
  {
   "cell_type": "code",
   "execution_count": null,
   "id": "2f1caef8",
   "metadata": {},
   "outputs": [],
   "source": [
    "# Q5 solution: remove 'BEE' safely\n",
    "L2 = [1,2,3,5,['a','BEE','work hard'],100,200,'Success']\n",
    "if 'BEE' in L2[4]:\n",
    "    L2[4].remove('BEE')\n"
   ]
  },
  {
   "cell_type": "markdown",
   "id": "c4063d04",
   "metadata": {},
   "source": [
    "## Q6 — Append a dictionary to L2\n",
    "Add `{'insect': ['bee','moth'], 'bird': ['parrot','sparrow']}` at the end of L2.\n"
   ]
  },
  {
   "cell_type": "code",
   "execution_count": null,
   "id": "2b472545",
   "metadata": {},
   "outputs": [],
   "source": [
    "# Q6 solution: append dictionary\n",
    "L2 = [1,2,3,5,['a','b','work hard'],100,200,'Success']\n",
    "L2.append({'insect': ['bee','moth'], 'bird': ['parrot','sparrow']})\n"
   ]
  },
  {
   "cell_type": "markdown",
   "id": "3b3486f9",
   "metadata": {},
   "source": [
    "## Q7 — Extract insect information\n",
    "From L2 extract insect list.\n"
   ]
  },
  {
   "cell_type": "code",
   "execution_count": null,
   "id": "7bf7bd2d",
   "metadata": {},
   "outputs": [],
   "source": [
    "# Q7 solution: extract insect info\n",
    "L2 = [1,2,3,5,['a','b','work hard'],100,200,'Success', {'insect': ['bee','moth'], 'bird': ['parrot','sparrow'] }]\n",
    "insects = L2[-1]['insect']\n"
   ]
  },
  {
   "cell_type": "markdown",
   "id": "f793e7df",
   "metadata": {},
   "source": [
    "## Q8 — Insert dictionary at 2nd position\n",
    "Create `d1 = {'a':10, 'b':20, 'c':30}` and insert at index 1 in L2.\n"
   ]
  },
  {
   "cell_type": "code",
   "execution_count": null,
   "id": "2338786f",
   "metadata": {},
   "outputs": [],
   "source": [
    "# Q8 solution: insert dictionary d1\n",
    "d1 = {'a':10, 'b':20, 'c':30}\n",
    "L2 = [1,2,3]\n",
    "L2.insert(1, d1) \n"
   ]
  },
  {
   "cell_type": "markdown",
   "id": "bc44cadb",
   "metadata": {},
   "source": [
    "## Q9 — Extract value 10 from dictionary inside L2\n",
    "From the new L2 extract the value 10 stored in the inserted dictionary.\n"
   ]
  },
  {
   "cell_type": "code",
   "execution_count": null,
   "id": "417c291c",
   "metadata": {},
   "outputs": [],
   "source": [
    "# Q9 solution: access nested dictionary value\n",
    "# assuming d1 was inserted as L2[1]\n",
    "L2 = [1, {'a':10,'b':20,'c':30}, 3]\n",
    "val_10 = L2[1]['a']\n"
   ]
  },
  {
   "cell_type": "markdown",
   "id": "32f6a751",
   "metadata": {},
   "source": [
    "## Q10 — Complex nested structures\n",
    "Given a larger L2 with tuples and nested lists, perform safe indexing and note errors.\n"
   ]
  },
  {
   "cell_type": "code",
   "execution_count": null,
   "id": "4c84f503",
   "metadata": {},
   "outputs": [],
   "source": [
    "# Q10 solution: working with tuples and nested lists\n",
    "L2 = [1,2,3,5,(90,40,50,10),'Python',400,['a','b','work hard'],100,200,'Success',(200,300,'Hundreds')]\n",
    "\n",
    "tuple_elem = L2[4][2]    \n",
    "string_full = L2[5][:]     \n",
    "slice_1_5 = L2[1:5]\n",
    "last_tuple = L2[-1]\n",
    "nested_work = L2[7][2]\n",
    "\n"
   ]
  },
  {
   "cell_type": "markdown",
   "id": "44f99b93",
   "metadata": {},
   "source": [
    "## Q11 — Marks classification (if-elif-else)\n",
    "Write code that classifies marks: distinction (>80), first class (>60), second (>40), pass (>=35), fail otherwise.\n"
   ]
  },
  {
   "cell_type": "code",
   "execution_count": null,
   "id": "cb79e1f0",
   "metadata": {},
   "outputs": [],
   "source": [
    "# Q11 solution: function that returns classification string\n",
    "def classify_marks(marks):\n",
    "    if marks > 80:\n",
    "        return 'You got distinction'\n",
    "    elif marks > 60:\n",
    "        return 'You got First class'\n",
    "    elif marks > 40:\n",
    "        return 'You got second class'\n",
    "    elif marks >= 35:\n",
    "        return 'PASS'\n",
    "    else:\n",
    "        return 'FAIL'\n",
    "\n"
   ]
  },
  {
   "cell_type": "markdown",
   "id": "954fe93f",
   "metadata": {},
   "source": [
    "## Q12 — Salary increment based on slab and rating\n",
    "Implement logic for different salary slabs and rating-based increments.\n"
   ]
  },
  {
   "cell_type": "code",
   "execution_count": null,
   "id": "459ac41a",
   "metadata": {},
   "outputs": [],
   "source": [
    "# Q12 solution: compute increment amount (salary in LPA)\n",
    "def compute_increment(salary_lpa, rating):\n",
    "    rating = rating.upper()\n",
    "    if salary_lpa <= 5:\n",
    "        rates = {'A':0.16, 'B':0.12, 'C':0.10, 'D':0.06}\n",
    "    elif salary_lpa <= 10:\n",
    "        rates = {'A':0.14, 'B':0.10, 'C':0.08, 'D':0.06}\n",
    "    elif salary_lpa <= 15:\n",
    "        rates = {'A':0.08, 'B':0.06, 'C':0.04, 'D':0.0}\n",
    "    elif salary_lpa <= 23:\n",
    "        rates = {'A':0.07, 'B':0.05, 'C':0.04, 'D':0.0}\n",
    "    else:\n",
    "        rates = {'A':0.05, 'B':0.03, 'C':0.02, 'D':0.0}\n",
    "    rate = rates.get(rating, 0.0)\n",
    "    increment = salary_lpa * rate\n",
    "    return increment\n",
    "\n"
   ]
  },
  {
   "cell_type": "markdown",
   "id": "38d0f02f",
   "metadata": {},
   "source": [
    "## Q13 — Master's course fee calculator\n",
    "Given courses and optional analytics + hostel + food + transport compute annual cost. Use 1 LPA = 100000 INR for conversions where needed.\n"
   ]
  },
  {
   "cell_type": "code",
   "execution_count": null,
   "id": "7ff00a59",
   "metadata": {},
   "outputs": [],
   "source": [
    "# Q13 solution: compute annual cost (fees in LPA)\n",
    "BASE_FEE_LPA = 2.0\n",
    "ANALYTICS_EXTRA = 0.10 * BASE_FEE_LPA  \n",
    "HOSTEL_FEE_LPA = 2.0\n",
    "FOOD_MONTHLY_INR = 2000\n",
    "TRANSPORT_PER_SEM_INR = 13000\n",
    "\n",
    "def compute_course_cost(subject, analytics=False, hostel=False, food_months=0, transport_option='none'):\n",
    "    total = BASE_FEE_LPA\n",
    "    if analytics and subject != 'DS':\n",
    "        total += ANALYTICS_EXTRA\n",
    "    if hostel:\n",
    "        total += HOSTEL_FEE_LPA\n",
    "    # convert food INR to LPA\n",
    "    food_lpa = (FOOD_MONTHLY_INR * food_months) / 100000.0\n",
    "    total += food_lpa\n",
    "    if transport_option.lower() in ('semester','annual'):\n",
    "        transport_inr = TRANSPORT_PER_SEM_INR * 2  \n",
    "        total += transport_inr / 100000.0\n",
    "    return total\n",
    "\n"
   ]
  },
  {
   "cell_type": "markdown",
   "id": "c70ef6eb",
   "metadata": {},
   "source": [
    "## Q14 — Digitalize book allotment (structure)\n",
    "Provide a skeleton to allocate books and calculate charges. Implement a simple function to allocate books using a catalog.\n"
   ]
  },
  {
   "cell_type": "code",
   "execution_count": null,
   "id": "b1a5458d",
   "metadata": {},
   "outputs": [],
   "source": [
    "# Q14 solution: simple book allotment skeleton\n",
    "book_catalog = {'Math': 200, 'Science': 250, 'English': 150}\n",
    "\n",
    "def allocate_books(student_id, name, book_list):\n",
    "    fee = sum(book_catalog.get(b, 0) for b in book_list)\n",
    "    record = {'name': name, 'books': book_list, 'fee': fee}\n",
    "    return record\n",
    "\n"
   ]
  },
  {
   "cell_type": "markdown",
   "id": "e4c3c350",
   "metadata": {},
   "source": [
    "## Q15 — FD interest bucket\n",
    "Ask start and end dates, compute duration and choose interest bucket. Provide a helper function.\n"
   ]
  },
  {
   "cell_type": "code",
   "execution_count": null,
   "id": "72e00674",
   "metadata": {},
   "outputs": [],
   "source": [
    "# Q15 solution: FD bucket function (example buckets)\n",
    "from datetime import datetime\n",
    "\n",
    "def fd_bucket(start_date_str, end_date_str):\n",
    "    fmt = '%Y-%m-%d'\n",
    "    s = datetime.strptime(start_date_str, fmt)\n",
    "    e = datetime.strptime(end_date_str, fmt)\n",
    "    days = (e - s).days\n",
    "    years = days / 365.25\n",
    "    if years < 1:\n",
    "        rate = 0.05\n",
    "    elif years < 3:\n",
    "        rate = 0.065\n",
    "    elif years < 5:\n",
    "        rate = 0.07\n",
    "    else:\n",
    "        rate = 0.075\n",
    "    return {'years': years, 'rate': rate}\n",
    "\n"
   ]
  },
  {
   "cell_type": "markdown",
   "id": "48202980",
   "metadata": {},
   "source": [
    "## Q16 — Text processing\n",
    "Given a long paragraph string, demonstrate tokenization and simple statistics (word count, sentence count).\n"
   ]
  },
  {
   "cell_type": "code",
   "execution_count": null,
   "id": "7c738ff7",
   "metadata": {},
   "outputs": [],
   "source": [
    "# Q16 solution: basic text analysis\n",
    "string = \"In most organized forms of writing, such as essays, paragraphs contain a topic sentence. This topic sentence of the paragraph tells the reader what the paragraph will be about.\"\n",
    "\n",
    "words = string.split()\n",
    "word_count = len(words)\n",
    "sentences = [s.strip() for s in string.split('.') if s.strip()]\n",
    "sentence_count = len(sentences)\n",
    "\n"
   ]
  },
  {
   "cell_type": "markdown",
   "id": "5e2cc640",
   "metadata": {},
   "source": [
    "## Q17 — Type casting for integer `a = 100`\n",
    "Attempt common casts and note valid/invalid conversions.\n"
   ]
  },
  {
   "cell_type": "code",
   "execution_count": null,
   "id": "9a207c74",
   "metadata": {},
   "outputs": [],
   "source": [
    "# Q17 solution: type casting examples for a = 100\n",
    "a = 100\n",
    "as_str = str(a)\n",
    "as_list_from_str = list(as_str) \n",
    "as_tuple_from_str = tuple(as_str)\n",
    "as_float = float(a)\n"
   ]
  },
  {
   "cell_type": "markdown",
   "id": "9ad7879b",
   "metadata": {},
   "source": [
    "## Q18 — Type casting for `city = 'Pune'`\n",
    "Show list, tuple, set conversions and note int/float conversions raise errors.\n"
   ]
  },
  {
   "cell_type": "code",
   "execution_count": null,
   "id": "d227fe11",
   "metadata": {},
   "outputs": [],
   "source": [
    "# Q18 solution: casting for city\n",
    "city = 'Pune'\n",
    "city_list = list(city)\n",
    "city_tuple = tuple(city)\n",
    "city_set = set(city)\n"
   ]
  },
  {
   "cell_type": "markdown",
   "id": "12a70310",
   "metadata": {},
   "source": [
    "## Q19 — Type casting for marks list\n",
    "Given `marks = [20,18,15,17,18]`, convert to tuple, set and note invalid conversions.\n"
   ]
  },
  {
   "cell_type": "code",
   "execution_count": null,
   "id": "1c785f46",
   "metadata": {},
   "outputs": [],
   "source": [
    "# Q19 solution: list conversions\n",
    "marks = [20,18,15,17,18]\n",
    "marks_tuple = tuple(marks)\n",
    "marks_set = set(marks)\n"
   ]
  },
  {
   "cell_type": "markdown",
   "id": "44b7d969",
   "metadata": {},
   "source": [
    "## Q20 — List building and operations\n",
    "Create empty list `snames` and perform append/extend operations as requested.\n"
   ]
  },
  {
   "cell_type": "code",
   "execution_count": null,
   "id": "768a1990",
   "metadata": {},
   "outputs": [],
   "source": [
    "# Q20 solution: list operations\n",
    "snames = []\n",
    "\n",
    "snames.append(20)\n",
    "\n",
    "snames.extend([30])\n",
    "\n",
    "snames.append([40])\n",
    "\n",
    "snames.extend(list('WORK'))\n",
    "\n",
    "combo = [1, 'a', 'b', 2, 3]\n",
    "\n",
    "combined = snames + combo\n",
    "\n",
    "snames.append(combo)\n",
    "\n",
    "snames.extend(combo)\n"
   ]
  },
  {
   "cell_type": "markdown",
   "id": "713f5a14",
   "metadata": {},
   "source": [
    "## Q21 — Insert list inside another list at specific position\n",
    "Given l1 with two elements and l3 with seven elements, insert l1 at 4th position in l3.\n"
   ]
  },
  {
   "cell_type": "code",
   "execution_count": null,
   "id": "881ee5fc",
   "metadata": {},
   "outputs": [],
   "source": [
    "# Q21 solution: insert list at 4th position\n",
    "l1 = [10, 20]\n",
    "l3 = [1,2,3,4,5,6,7]\n",
    "l3.insert(3, l1) \n"
   ]
  },
  {
   "cell_type": "markdown",
   "id": "832b3085",
   "metadata": {},
   "source": [
    "## Q22 — Multiply numeric elements in a mixed collection by 5; remove 'Nisha' and find index of 20.50\n"
   ]
  },
  {
   "cell_type": "code",
   "execution_count": null,
   "id": "7d7991fa",
   "metadata": {},
   "outputs": [],
   "source": [
    "# Q22 solution: process mixed collection\n",
    "collection = [1,2,3,['a','b','c'],100,'Nisha',20.50,90.10]\n",
    "processed = []\n",
    "for x in collection:\n",
    "    if isinstance(x, (int, float)):\n",
    "        processed.append(x*5)\n",
    "    else:\n",
    "        processed.append(x)\n",
    "\n",
    "if 'Nisha' in processed:\n",
    "    processed.remove('Nisha')\n",
    "\n",
    "index_20_50 = None\n",
    "val = 20.50 * 5\n",
    "if val in processed:\n",
    "    index_20_50 = processed.index(val)\n"
   ]
  },
  {
   "cell_type": "markdown",
   "id": "4da07818",
   "metadata": {},
   "source": [
    "## Q23 — Square list up to 10 and divisibility lists\n",
    "Create comprehensions for squares up to 10, numbers divisible by 13 up to 200, and divisible by 4 from 300 to 400.\n"
   ]
  },
  {
   "cell_type": "code",
   "execution_count": null,
   "id": "bc189b49",
   "metadata": {},
   "outputs": [],
   "source": [
    "# Q23 solution: comprehensions\n",
    "squares = [i*i for i in range(1,11)]\n",
    "div13 = [i for i in range(1,201) if i%13==0]\n",
    "div4_300_400 = [i for i in range(300,401) if i%4==0]\n"
   ]
  },
  {
   "cell_type": "markdown",
   "id": "7486410c",
   "metadata": {},
   "source": [
    "## Q24 — Generate combinations for ranges x and y\n",
    "Given x and y generate all combinations [[i,j]] where i in range(x) and j in range(y).\n"
   ]
  },
  {
   "cell_type": "code",
   "execution_count": null,
   "id": "97f65539",
   "metadata": {},
   "outputs": [],
   "source": [
    "# Q24 solution: generate combinations\n",
    "x = 2\n",
    "y = 2\n",
    "comb = [[i,j] for i in range(x) for j in range(y)]\n"
   ]
  },
  {
   "cell_type": "markdown",
   "id": "5736ecf8",
   "metadata": {},
   "source": [
    "## Q25 — Sets: add vs update\n",
    "Explain difference and show examples.\n"
   ]
  },
  {
   "cell_type": "code",
   "execution_count": null,
   "id": "83bd3b4a",
   "metadata": {},
   "outputs": [],
   "source": [
    "# Q25 solution: add vs update on sets\n",
    "s = set()\n",
    "s.add(1)        \n",
    "s.update([2,3])  \n"
   ]
  },
  {
   "cell_type": "markdown",
   "id": "d83ce248",
   "metadata": {},
   "source": [
    "## Q26 — Lists: append vs extend\n",
    "Explain difference and show examples.\n"
   ]
  },
  {
   "cell_type": "code",
   "execution_count": null,
   "id": "ff51a4df",
   "metadata": {},
   "outputs": [],
   "source": [
    "# Q26 solution: append vs extend\n",
    "lst = [1,2]\n",
    "lst.append([3,4])   \n",
    "lst = [1,2]\n",
    "lst.extend([3,4])  \n"
   ]
  },
  {
   "cell_type": "markdown",
   "id": "4d5a7ab4",
   "metadata": {},
   "source": [
    "## Q27 — pop vs remove\n",
    "Explain difference and show examples.\n"
   ]
  },
  {
   "cell_type": "code",
   "execution_count": null,
   "id": "02b3ec42",
   "metadata": {},
   "outputs": [],
   "source": [
    "# Q27 solution: pop vs remove\n",
    "lst = [10,20,30]\n",
    "removed_by_pop = lst.pop()   \n",
    "lst = [10,20,30]\n",
    "lst.remove(20)           \n"
   ]
  },
  {
   "cell_type": "markdown",
   "id": "a489a286",
   "metadata": {},
   "source": [
    "## Q28 — discard vs pop vs remove behavior\n",
    "Explain that discard doesn't raise error, remove does, pop uses index.\n"
   ]
  },
  {
   "cell_type": "code",
   "execution_count": null,
   "id": "9a56220c",
   "metadata": {},
   "outputs": [],
   "source": [
    "# Q28 solution: discard vs remove vs pop\n",
    "s = {1,2,3}\n",
    "s.discard(5)  "
   ]
  },
  {
   "cell_type": "markdown",
   "id": "ac0aba2b",
   "metadata": {},
   "source": [
    "## Q29 — Creating empty set\n",
    "Show correct way to create empty set and note that {} creates empty dict.\n"
   ]
  },
  {
   "cell_type": "code",
   "execution_count": null,
   "id": "940c2e47",
   "metadata": {},
   "outputs": [],
   "source": [
    "# Q29 solution: create empty set\n",
    "empty_set = set()\n",
    "empty_dict = {} "
   ]
  },
  {
   "cell_type": "markdown",
   "id": "c71298d8",
   "metadata": {},
   "source": [
    "## Q30 — Set operations: union, intersection, difference\n",
    "Create two sets and perform standard operations.\n"
   ]
  },
  {
   "cell_type": "code",
   "execution_count": null,
   "id": "c31b7d72",
   "metadata": {},
   "outputs": [],
   "source": [
    "# Q30 solution: set ops\n",
    "s1 = {1,2,3}\n",
    "s2 = {2,3,4}\n",
    "union = s1 | s2\n",
    "intersection = s1 & s2\n",
    "difference = s1 - s2\n",
    "sym_diff = s1 ^ s2\n"
   ]
  },
  {
   "cell_type": "markdown",
   "id": "4efa9319",
   "metadata": {},
   "source": [
    "## Q31 — Password generation from name and DOB (dd-mm-yyyy)\n",
    "Generate password as first 4 chars of name + '@' + ddmm (or yyyy as requested in variations).\n"
   ]
  },
  {
   "cell_type": "code",
   "execution_count": null,
   "id": "46aed754",
   "metadata": {},
   "outputs": [],
   "source": [
    "# Q31 solution: password examples\n",
    "def password_ddmm(name, dob):\n",
    "    # dob format 'DD-MM-YYYY'\n",
    "    return name[:4].upper() + '@' + dob[:2] + dob[3:5]\n",
    "\n",
    "def password_year(name, dob):\n",
    "    return name[:4].upper() + '@' + dob[-4:]\n",
    "\n"
   ]
  },
  {
   "cell_type": "markdown",
   "id": "94bed617",
   "metadata": {},
   "source": [
    "## Q32 — Pattern printing (triangle increasing)\n",
    "Create pattern:\n",
    "```\n",
    "*\n",
    "* *\n",
    "* * *\n",
    "* * * *\n",
    "```\n"
   ]
  },
  {
   "cell_type": "code",
   "execution_count": null,
   "id": "65f07769",
   "metadata": {},
   "outputs": [],
   "source": [
    "# Q32 solution: pattern printing (no printed output by default)\n",
    "def pattern_increasing(n):\n",
    "\n",
    "    return ['* ' * i for i in range(1, n+1)]\n",
    "\n",
    "\n"
   ]
  },
  {
   "cell_type": "markdown",
   "id": "d23f6648",
   "metadata": {},
   "source": [
    "## Q33 — Pattern printing (triangle decreasing)\n",
    "Create pattern:\n",
    "```\n",
    "****\n",
    "***\n",
    "**\n",
    "*\n",
    "```\n"
   ]
  },
  {
   "cell_type": "code",
   "execution_count": null,
   "id": "f597d370",
   "metadata": {},
   "outputs": [],
   "source": [
    "# Q33 solution: decreasing pattern\n",
    "def pattern_decreasing(n):\n",
    "    return ['*' * i for i in range(n, 0, -1)]\n",
    "\n",
    "\n"
   ]
  },
  {
   "cell_type": "markdown",
   "id": "35c84dac",
   "metadata": {},
   "source": [
    "## Q34 — Alphabetic pattern 'ABCD' increasing rows\n",
    "Create pattern:\n",
    "```\n",
    "A\n",
    "A B\n",
    "A B C\n",
    "A B C D\n",
    "```\n"
   ]
  },
  {
   "cell_type": "code",
   "execution_count": null,
   "id": "5c380d38",
   "metadata": {},
   "outputs": [],
   "source": [
    "# Q34 solution: alphabetic pyramid\n",
    "def alpha_pyramid(s):\n",
    "    return [' '.join(list(s[:i])) for i in range(1, len(s)+1)]\n",
    "\n"
   ]
  },
  {
   "cell_type": "markdown",
   "id": "a1802c4f",
   "metadata": {},
   "source": [
    "## Q35 — Repeated character pattern\n",
    "Create pattern where each row repeats same character increasing times (A, BB, CCC...)\n"
   ]
  },
  {
   "cell_type": "code",
   "execution_count": null,
   "id": "36ddb543",
   "metadata": {},
   "outputs": [],
   "source": [
    "# Q35 solution: repeated character pattern\n",
    "def repeated_char_pattern(chars):\n",
    "    return [char * (i+1) for i, char in enumerate(chars)]\n",
    "\n"
   ]
  },
  {
   "cell_type": "markdown",
   "id": "b623b714",
   "metadata": {},
   "source": [
    "## Q36 — Numeric pattern (1, 22, 333...)\n",
    "Generate numeric pattern where digit i repeats i times up to n.\n"
   ]
  },
  {
   "cell_type": "code",
   "execution_count": null,
   "id": "ff3032d3",
   "metadata": {},
   "outputs": [],
   "source": [
    "# Q36 solution: numeric repeat pattern\n",
    "def numeric_repeat(n):\n",
    "    return [str(i) * i for i in range(1, n+1)]\n",
    "\n"
   ]
  },
  {
   "cell_type": "markdown",
   "id": "09c39b8d",
   "metadata": {},
   "source": [
    "## Q37 — Reverse character build from string\n",
    "Given a string, show progressive reverse building (no printing).\n",
    "Example for 'UPGRAD' -> lines 'D', 'DA', 'DAR', ...\n"
   ]
  },
  {
   "cell_type": "code",
   "execution_count": null,
   "id": "4a689a3e",
   "metadata": {},
   "outputs": [],
   "source": [
    "# Q37 solution: reverse-building sequences\n",
    "def reverse_build(s):\n",
    "    return [s[-i:] for i in range(1, len(s)+1)]\n",
    "\n"
   ]
  },
  {
   "cell_type": "markdown",
   "id": "83f6e607",
   "metadata": {},
   "source": [
    "## Q38 — Odd numbers 1 to 10 using loop and comprehension\n",
    "Provide both methods.\n"
   ]
  },
  {
   "cell_type": "code",
   "execution_count": null,
   "id": "9ca44363",
   "metadata": {},
   "outputs": [],
   "source": [
    "# Q38 solution: odd numbers\n",
    "# using for-loop\n",
    "odds_for = []\n",
    "for num in range(1,11):\n",
    "    if num % 2 == 1:\n",
    "        odds_for.append(num)\n",
    "\n",
    "odds_comp = [i for i in range(1,11) if i%2==1]\n"
   ]
  },
  {
   "cell_type": "markdown",
   "id": "8dd5a022",
   "metadata": {},
   "source": [
    "## Q39 — Even numbers 200 to 250 using for-loop\n"
   ]
  },
  {
   "cell_type": "code",
   "execution_count": null,
   "id": "e0748407",
   "metadata": {},
   "outputs": [],
   "source": [
    "# Q39 solution: even numbers 200 to 250\n",
    "evens = []\n",
    "for i in range(200, 251):\n",
    "    if i % 2 == 0:\n",
    "        evens.append(i)\n"
   ]
  },
  {
   "cell_type": "markdown",
   "id": "cc8f908a",
   "metadata": {},
   "source": [
    "## Q40 — Multiply elements of a mixed list by 2 and store in new list\n",
    "Given a mixed list, multiply numeric elements by 2 and appropriately handle other types.\n"
   ]
  },
  {
   "cell_type": "code",
   "execution_count": null,
   "id": "22ddc80e",
   "metadata": {},
   "outputs": [],
   "source": [
    "# Q40 solution: multiply suitable elements by 2 and store in list3\n",
    "List2 = [2, 70, 'work', 'para', 2.5, [1,2,3], (1,2), {1,2}, {1:'a', 2:'b'}, 3, 10, 302.5]\n",
    "\n",
    "list3 = []\n",
    "for x in List2:\n",
    "    if isinstance(x, (int, float)):\n",
    "        list3.append(x * 2)\n",
    "    elif isinstance(x, str):\n",
    "        list3.append(x * 2)\n",
    "    elif isinstance(x, list):\n",
    "        list3.append([elem * 2 for elem in x])\n",
    "    elif isinstance(x, tuple):\n",
    "        list3.append(tuple(elem * 2 for elem in x))\n",
    "    elif isinstance(x, set):\n",
    "        new_set = set()\n",
    "        for item in x:\n",
    "            new_set.add(item * 2 if isinstance(item, (int,float)) else item)\n",
    "        list3.append(new_set)\n",
    "    elif isinstance(x, dict):\n",
    "        new_dict = {k: (v*2 if isinstance(v,(int,float)) else v) for k,v in x.items()}\n",
    "        list3.append(new_dict)\n",
    "    else:\n",
    "        list3.append(x)\n"
   ]
  }
 ],
 "metadata": {
  "language_info": {
   "name": "python"
  }
 },
 "nbformat": 4,
 "nbformat_minor": 5
}
